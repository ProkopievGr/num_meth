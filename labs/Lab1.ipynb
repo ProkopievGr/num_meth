{
 "cells": [
  {
   "cell_type": "code",
   "execution_count": 1,
   "metadata": {},
   "outputs": [],
   "source": [
    "import numpy as np"
   ]
  },
  {
   "cell_type": "code",
   "execution_count": 2,
   "metadata": {},
   "outputs": [],
   "source": [
    "def f(x):\n",
    "    return np.exp(-np.power(x,2))"
   ]
  },
  {
   "cell_type": "code",
   "execution_count": 3,
   "metadata": {},
   "outputs": [],
   "source": [
    "def rect_sum(f, a, b, N, way='mid'):\n",
    "    h = float(b - a)/N\n",
    "    \n",
    "    if way == 'left':\n",
    "        x = a\n",
    "    elif way == 'right':\n",
    "        x = a + h\n",
    "    elif way == 'mid':\n",
    "        x = a + 0.5*h\n",
    "    else:\n",
    "        raise Exception('Wrong argument!')\n",
    "    \n",
    "    I = f(x)\n",
    "    for i in range(1, N):\n",
    "        x += h\n",
    "        I += f(x)\n",
    "    I *= h\n",
    "    return I"
   ]
  },
  {
   "cell_type": "code",
   "execution_count": 4,
   "metadata": {},
   "outputs": [
    {
     "data": {
      "text/plain": [
       "0.7468241634690489"
      ]
     },
     "execution_count": 4,
     "metadata": {},
     "output_type": "execute_result"
    }
   ],
   "source": [
    "rect_sum(f, 0, 1, 1000, way='mid')"
   ]
  },
  {
   "cell_type": "code",
   "execution_count": 11,
   "metadata": {},
   "outputs": [
    {
     "data": {
      "text/plain": [
       "0.7471401317785982"
      ]
     },
     "execution_count": 11,
     "metadata": {},
     "output_type": "execute_result"
    }
   ],
   "source": [
    "rect_sum(f, 0, 1, 1000, way='left')"
   ]
  },
  {
   "cell_type": "code",
   "execution_count": 7,
   "metadata": {},
   "outputs": [],
   "source": [
    "def trap_sum(f, a, b, N):\n",
    "    h = float(b - a)/N\n",
    "    I = 0.5*(f(a) + f(b))\n",
    "    #x = a\n",
    "    \n",
    "    for i in range(1, N):\n",
    "        #x += h\n",
    "        I += f(a + i*h)\n",
    "    I *= h\n",
    "    return I"
   ]
  },
  {
   "cell_type": "code",
   "execution_count": 8,
   "metadata": {},
   "outputs": [
    {
     "data": {
      "text/plain": [
       "0.7468240714991843"
      ]
     },
     "execution_count": 8,
     "metadata": {},
     "output_type": "execute_result"
    }
   ],
   "source": [
    "trap_sum(f, 0, 1, 1000)"
   ]
  },
  {
   "cell_type": "code",
   "execution_count": 32,
   "metadata": {},
   "outputs": [],
   "source": [
    "def simpson(f, a, b, N):\n",
    "    h = float(b - a)/N\n",
    "    k = 0.0\n",
    "    half = f(a + 0.5*h)\n",
    "    for i in range(1, N):\n",
    "        k += f(a + i*h)\n",
    "        half += f(a + 0.5*h + i*h)\n",
    "        \n",
    "    return h*(f(a) + f(b) + 4*half + 2*k)/6"
   ]
  },
  {
   "cell_type": "code",
   "execution_count": 33,
   "metadata": {},
   "outputs": [
    {
     "data": {
      "text/plain": [
       "0.7468241328124274"
      ]
     },
     "execution_count": 33,
     "metadata": {},
     "output_type": "execute_result"
    }
   ],
   "source": [
    "simpson(f, 0, 1, 1000)"
   ]
  },
  {
   "cell_type": "code",
   "execution_count": 42,
   "metadata": {},
   "outputs": [],
   "source": [
    "def monte_karlo(f, N):\n",
    "    I = 0.0\n",
    "    for i in range(int(N)):\n",
    "        p = np.random.uniform(0, 1, 2)\n",
    "        if p[1] <= f(p[0]):\n",
    "            I += 1\n",
    "    return I/N"
   ]
  },
  {
   "cell_type": "code",
   "execution_count": 45,
   "metadata": {},
   "outputs": [
    {
     "data": {
      "text/plain": [
       "0.747886"
      ]
     },
     "execution_count": 45,
     "metadata": {},
     "output_type": "execute_result"
    }
   ],
   "source": [
    "monte_karlo(f, 1e6)"
   ]
  },
  {
   "cell_type": "code",
   "execution_count": null,
   "metadata": {},
   "outputs": [],
   "source": []
  },
  {
   "cell_type": "code",
   "execution_count": null,
   "metadata": {},
   "outputs": [],
   "source": []
  }
 ],
 "metadata": {
  "kernelspec": {
   "display_name": "Python 3",
   "language": "python",
   "name": "python3"
  },
  "language_info": {
   "codemirror_mode": {
    "name": "ipython",
    "version": 3
   },
   "file_extension": ".py",
   "mimetype": "text/x-python",
   "name": "python",
   "nbconvert_exporter": "python",
   "pygments_lexer": "ipython3",
   "version": "3.6.8"
  }
 },
 "nbformat": 4,
 "nbformat_minor": 2
}
