{
 "cells": [
  {
   "cell_type": "markdown",
   "metadata": {},
   "source": [
    "### Лабораторная работа №3"
   ]
  },
  {
   "cell_type": "markdown",
   "metadata": {},
   "source": [
    "#### Теория погрешностей и машинная арифметика"
   ]
  },
  {
   "cell_type": "markdown",
   "metadata": {},
   "source": [
    "Прокопьев Григорий, БПМ171 \\\n",
    "Вариант 21 (1.1.21, 1.8, 1.2.6, 1.7, 1.6, 1.9.4)"
   ]
  },
  {
   "cell_type": "markdown",
   "metadata": {},
   "source": [
    "#### Задача 1.1.21"
   ]
  },
  {
   "cell_type": "markdown",
   "metadata": {},
   "source": [
    "Дан ряд $\\sum_{n=0}^{\\infty} a_n$. Найти сумму ряда аналитически. Вычислить значения частичных сумм ряда $S_N = \\sum_{n=0}^{N} a_n$ и найти величину погрешности при $N = 10, 10^2, 10^3, 10^4, 10^5$. Построить гистограмму зависимости верных цифр результата от $N$."
   ]
  },
  {
   "cell_type": "markdown",
   "metadata": {},
   "source": [
    "Аналитическое решение задачи: \\\n",
    "$$S_N = \\sum_{n=0}^N \\frac{24}{7(n^2 + 8n + 15)} = \\frac{24}{7}\\sum_{n=0}^N \\frac{1}{(n+3)\\cdot(n+5)} = \\frac{24}{14} \\sum_{n=0}^N (\\frac{1}{n+3} - \\frac{1}{n+5}) = \\frac{12}{7}\\cdot(\\frac{1}{3} + \\frac{1}{4} - \\frac{1}{N+4} - \\frac{1}{N+5})$$"
   ]
  },
  {
   "cell_type": "markdown",
   "metadata": {},
   "source": [
    "$$S = \\lim_{N\\to\\infty} S_N = \\frac{12}{7}\\cdot(\\frac{1}{3} + \\frac{1}{4} - \\frac{1}{N+4} - \\frac{1}{N+5}) = \\frac{12}{7}\\cdot \\frac{7}{12} = 1$$"
   ]
  },
  {
   "cell_type": "code",
   "execution_count": 1,
   "metadata": {},
   "outputs": [],
   "source": [
    "def get_partial_sum(N):\n",
    "    sum_ = 0.0\n",
    "    for i in range(int(N)+1):\n",
    "        sum_ += 1/(i**2 + 8*i + 15)\n",
    "        \n",
    "    return 24*sum_/7"
   ]
  },
  {
   "cell_type": "code",
   "execution_count": 2,
   "metadata": {},
   "outputs": [],
   "source": [
    "N = [1e1, 1e2, 1e3, 1e4, 1e5]\n",
    "sums = []\n",
    "abs_errors = []\n",
    "for n in N:\n",
    "    sum_ = get_partial_sum(n)\n",
    "    sums.append(sum_)\n",
    "    abs_errors.append(1 - sum_)"
   ]
  },
  {
   "cell_type": "code",
   "execution_count": 3,
   "metadata": {},
   "outputs": [
    {
     "data": {
      "text/html": [
       "<div>\n",
       "<style scoped>\n",
       "    .dataframe tbody tr th:only-of-type {\n",
       "        vertical-align: middle;\n",
       "    }\n",
       "\n",
       "    .dataframe tbody tr th {\n",
       "        vertical-align: top;\n",
       "    }\n",
       "\n",
       "    .dataframe thead th {\n",
       "        text-align: right;\n",
       "    }\n",
       "</style>\n",
       "<table border=\"1\" class=\"dataframe\">\n",
       "  <thead>\n",
       "    <tr style=\"text-align: right;\">\n",
       "      <th></th>\n",
       "      <th>N</th>\n",
       "      <th>Частичная сумма ряда</th>\n",
       "      <th>Абсолютная погрешность</th>\n",
       "    </tr>\n",
       "  </thead>\n",
       "  <tbody>\n",
       "    <tr>\n",
       "      <th>0</th>\n",
       "      <td>10</td>\n",
       "      <td>0.763265</td>\n",
       "      <td>0.236735</td>\n",
       "    </tr>\n",
       "    <tr>\n",
       "      <th>1</th>\n",
       "      <td>100</td>\n",
       "      <td>0.967190</td>\n",
       "      <td>0.032810</td>\n",
       "    </tr>\n",
       "    <tr>\n",
       "      <th>2</th>\n",
       "      <td>1000</td>\n",
       "      <td>0.996587</td>\n",
       "      <td>0.003413</td>\n",
       "    </tr>\n",
       "    <tr>\n",
       "      <th>3</th>\n",
       "      <td>10000</td>\n",
       "      <td>0.999657</td>\n",
       "      <td>0.000343</td>\n",
       "    </tr>\n",
       "    <tr>\n",
       "      <th>4</th>\n",
       "      <td>100000</td>\n",
       "      <td>0.999966</td>\n",
       "      <td>0.000034</td>\n",
       "    </tr>\n",
       "  </tbody>\n",
       "</table>\n",
       "</div>"
      ],
      "text/plain": [
       "        N  Частичная сумма ряда  Абсолютная погрешность\n",
       "0      10              0.763265                0.236735\n",
       "1     100              0.967190                0.032810\n",
       "2    1000              0.996587                0.003413\n",
       "3   10000              0.999657                0.000343\n",
       "4  100000              0.999966                0.000034"
      ]
     },
     "execution_count": 3,
     "metadata": {},
     "output_type": "execute_result"
    }
   ],
   "source": [
    "import pandas as pd\n",
    "df = pd.DataFrame({\n",
    "    'N': N,\n",
    "    'Частичная сумма ряда': sums,\n",
    "    'Абсолютная погрешность': abs_errors\n",
    "})\n",
    "df.N = df.N.astype(int)\n",
    "df"
   ]
  },
  {
   "cell_type": "markdown",
   "metadata": {},
   "source": [
    "Используя определение верной цифры числа, определим количество верных цифр частичной суммы для каждого $N$:"
   ]
  },
  {
   "cell_type": "code",
   "execution_count": 4,
   "metadata": {},
   "outputs": [
    {
     "data": {
      "text/html": [
       "<div>\n",
       "<style scoped>\n",
       "    .dataframe tbody tr th:only-of-type {\n",
       "        vertical-align: middle;\n",
       "    }\n",
       "\n",
       "    .dataframe tbody tr th {\n",
       "        vertical-align: top;\n",
       "    }\n",
       "\n",
       "    .dataframe thead th {\n",
       "        text-align: right;\n",
       "    }\n",
       "</style>\n",
       "<table border=\"1\" class=\"dataframe\">\n",
       "  <thead>\n",
       "    <tr style=\"text-align: right;\">\n",
       "      <th></th>\n",
       "      <th>N</th>\n",
       "      <th>Частичная сумма ряда</th>\n",
       "      <th>Абсолютная погрешность</th>\n",
       "      <th>Количество верных цифр</th>\n",
       "    </tr>\n",
       "  </thead>\n",
       "  <tbody>\n",
       "    <tr>\n",
       "      <th>0</th>\n",
       "      <td>10</td>\n",
       "      <td>0.763265</td>\n",
       "      <td>0.236735</td>\n",
       "      <td>0</td>\n",
       "    </tr>\n",
       "    <tr>\n",
       "      <th>1</th>\n",
       "      <td>100</td>\n",
       "      <td>0.967190</td>\n",
       "      <td>0.032810</td>\n",
       "      <td>1</td>\n",
       "    </tr>\n",
       "    <tr>\n",
       "      <th>2</th>\n",
       "      <td>1000</td>\n",
       "      <td>0.996587</td>\n",
       "      <td>0.003413</td>\n",
       "      <td>2</td>\n",
       "    </tr>\n",
       "    <tr>\n",
       "      <th>3</th>\n",
       "      <td>10000</td>\n",
       "      <td>0.999657</td>\n",
       "      <td>0.000343</td>\n",
       "      <td>3</td>\n",
       "    </tr>\n",
       "    <tr>\n",
       "      <th>4</th>\n",
       "      <td>100000</td>\n",
       "      <td>0.999966</td>\n",
       "      <td>0.000034</td>\n",
       "      <td>4</td>\n",
       "    </tr>\n",
       "  </tbody>\n",
       "</table>\n",
       "</div>"
      ],
      "text/plain": [
       "        N  Частичная сумма ряда  Абсолютная погрешность  \\\n",
       "0      10              0.763265                0.236735   \n",
       "1     100              0.967190                0.032810   \n",
       "2    1000              0.996587                0.003413   \n",
       "3   10000              0.999657                0.000343   \n",
       "4  100000              0.999966                0.000034   \n",
       "\n",
       "   Количество верных цифр  \n",
       "0                       0  \n",
       "1                       1  \n",
       "2                       2  \n",
       "3                       3  \n",
       "4                       4  "
      ]
     },
     "execution_count": 4,
     "metadata": {},
     "output_type": "execute_result"
    }
   ],
   "source": [
    "right_digits = [0, 1, 2, 3, 4]\n",
    "df['Количество верных цифр'] = right_digits\n",
    "df"
   ]
  },
  {
   "cell_type": "markdown",
   "metadata": {},
   "source": [
    "Как видно из приведенного вычислительного эксперимента, увеличение числа членов ряда в 10 раз по сравнению с предыдущим случаем увеличивает число верных цифр в ответе на 1 \\\n",
    "\n",
    "Гистограмма:"
   ]
  },
  {
   "cell_type": "code",
   "execution_count": 5,
   "metadata": {},
   "outputs": [],
   "source": [
    "import matplotlib.pyplot as plt"
   ]
  },
  {
   "cell_type": "code",
   "execution_count": 6,
   "metadata": {},
   "outputs": [
    {
     "data": {
      "image/png": "[encoded data removed]",
      "text/plain": [
       "<Figure size 864x576 with 1 Axes>"
      ]
     },
     "metadata": {
      "needs_background": "light"
     },
     "output_type": "display_data"
    }
   ],
   "source": [
    "plt.figure(figsize=(12, 8))\n",
    "\n",
    "plt.title('Зависимость количества верных цифр от N')\n",
    "plt.ylabel('Количество верных цифр')\n",
    "plt.xlabel('N')\n",
    "\n",
    "plt.grid()\n",
    "plt.bar(range(len(right_digits)), right_digits)\n",
    "plt.yticks(right_digits)\n",
    "plt.xticks(range(5), df.N.values)\n",
    "plt.show()"
   ]
  },
  {
   "cell_type": "markdown",
   "metadata": {},
   "source": [
    "#### Задача 1.8"
   ]
  },
  {
   "cell_type": "markdown",
   "metadata": {},
   "source": [
    "Составить программу, моделирующую вычисления на ЭВМ с ограниченной разрядностью $m$. Решить задачу 1.1 для случая $N = 10000$, используя эту программу. Составить график зависимости погрешности от количества разрядов $m = 4, 5, \\dots, 8$"
   ]
  },
  {
   "cell_type": "code",
   "execution_count": 7,
   "metadata": {},
   "outputs": [],
   "source": [
    "def partial_bitness_sum(N, m):\n",
    "    sum_ = 0.0\n",
    "    for i in range(N+1):\n",
    "        sum_ += round(24/(7*(i**2 + 8*i + 15)), m)\n",
    "    return round(sum_, m)"
   ]
  },
  {
   "cell_type": "code",
   "execution_count": 8,
   "metadata": {},
   "outputs": [],
   "source": [
    "N = int(1e5)\n",
    "M = list(range(4,9))\n",
    "partial_abs_errors = []\n",
    "\n",
    "for m in M:\n",
    "    partial_abs_errors.append(1 - partial_bitness_sum(N, m))"
   ]
  },
  {
   "cell_type": "markdown",
   "metadata": {},
   "source": [
    "График зависимости абсолютной погрешности от количества разрядов:"
   ]
  },
  {
   "cell_type": "code",
   "execution_count": 9,
   "metadata": {},
   "outputs": [
    {
     "data": {
      "image/png": "[encoded data removed]",
      "text/plain": [
       "<Figure size 432x288 with 1 Axes>"
      ]
     },
     "metadata": {
      "needs_background": "light"
     },
     "output_type": "display_data"
    }
   ],
   "source": [
    "plt.title('Зависимость абсолютной погрешности от количества разрядов m')\n",
    "plt.ylabel('Абсолютная погрешность')\n",
    "plt.xlabel('m')\n",
    "\n",
    "plt.plot(M, partial_abs_errors)\n",
    "plt.xticks(M)\n",
    "plt.grid()\n",
    "plt.show()"
   ]
  },
  {
   "cell_type": "markdown",
   "metadata": {},
   "source": [
    "#### Задача 1.2.6"
   ]
  },
  {
   "cell_type": "markdown",
   "metadata": {},
   "source": [
    "Дана матрица $A = \\begin{pmatrix} a_{11} & a_{12} & a_{13}\\\\ a_{21} & a_{22} & a_{23}\\\\ a_{31} & a_{32} & a_{33}\\\\ \\end{pmatrix}$. В каждый из диагональных элементов матрицы A по очереди внести погрешность в 1%. Как изменился определитель матрицы А? Указать количество верных цифр и вычислить величину относительной погрешности определителя в каждом случае. "
   ]
  },
  {
   "cell_type": "markdown",
   "metadata": {},
   "source": [
    "$$A = \\begin{pmatrix} 3 & 1 & 13 \\\\ 5 & 3 &15 \\\\ 11 & 5 & 40 \\end{pmatrix}$$"
   ]
  },
  {
   "cell_type": "code",
   "execution_count": 10,
   "metadata": {},
   "outputs": [],
   "source": [
    "import numpy as np"
   ]
  },
  {
   "cell_type": "code",
   "execution_count": 11,
   "metadata": {},
   "outputs": [],
   "source": [
    "A = np.array([[3, 1, 13],\n",
    "              [5, 3, 15],\n",
    "              [11, 5, 40]], dtype=np.float)"
   ]
  },
  {
   "cell_type": "code",
   "execution_count": 12,
   "metadata": {},
   "outputs": [],
   "source": [
    "true_det = np.linalg.det(A)\n",
    "dets = []\n",
    "abs_errors = []\n",
    "rel_errors = []\n",
    "\n",
    "for i in range(len(A)):\n",
    "    B = A.copy()\n",
    "    \n",
    "    B[i,i] *= 1.01\n",
    "    det = np.linalg.det(B)\n",
    "    abs_err = np.abs(true_det - det)\n",
    "    rel_err = abs_err/np.abs(true_det)\n",
    "    \n",
    "    dets.append(det)\n",
    "    abs_errors.append(abs_err)\n",
    "    rel_errors.append(rel_err)"
   ]
  },
  {
   "cell_type": "code",
   "execution_count": 13,
   "metadata": {},
   "outputs": [
    {
     "data": {
      "text/plain": [
       "-3.999999999999999"
      ]
     },
     "execution_count": 13,
     "metadata": {},
     "output_type": "execute_result"
    }
   ],
   "source": [
    "true_det"
   ]
  },
  {
   "cell_type": "code",
   "execution_count": 14,
   "metadata": {},
   "outputs": [
    {
     "data": {
      "text/html": [
       "<div>\n",
       "<style scoped>\n",
       "    .dataframe tbody tr th:only-of-type {\n",
       "        vertical-align: middle;\n",
       "    }\n",
       "\n",
       "    .dataframe tbody tr th {\n",
       "        vertical-align: top;\n",
       "    }\n",
       "\n",
       "    .dataframe thead th {\n",
       "        text-align: right;\n",
       "    }\n",
       "</style>\n",
       "<table border=\"1\" class=\"dataframe\">\n",
       "  <thead>\n",
       "    <tr style=\"text-align: right;\">\n",
       "      <th></th>\n",
       "      <th>Определитель</th>\n",
       "      <th>Абсолютная ошибка</th>\n",
       "      <th>Относительная ошибка</th>\n",
       "    </tr>\n",
       "  </thead>\n",
       "  <tbody>\n",
       "    <tr>\n",
       "      <th>0</th>\n",
       "      <td>-2.65</td>\n",
       "      <td>1.35</td>\n",
       "      <td>0.3375</td>\n",
       "    </tr>\n",
       "    <tr>\n",
       "      <th>1</th>\n",
       "      <td>-4.69</td>\n",
       "      <td>0.69</td>\n",
       "      <td>0.1725</td>\n",
       "    </tr>\n",
       "    <tr>\n",
       "      <th>2</th>\n",
       "      <td>-2.40</td>\n",
       "      <td>1.60</td>\n",
       "      <td>0.4000</td>\n",
       "    </tr>\n",
       "  </tbody>\n",
       "</table>\n",
       "</div>"
      ],
      "text/plain": [
       "   Определитель  Абсолютная ошибка  Относительная ошибка\n",
       "0         -2.65               1.35                0.3375\n",
       "1         -4.69               0.69                0.1725\n",
       "2         -2.40               1.60                0.4000"
      ]
     },
     "execution_count": 14,
     "metadata": {},
     "output_type": "execute_result"
    }
   ],
   "source": [
    "df = pd.DataFrame({\n",
    "    'Определитель': dets,\n",
    "    'Абсолютная ошибка': abs_errors,\n",
    "    'Относительная ошибка': rel_errors,\n",
    "})\n",
    "df"
   ]
  },
  {
   "cell_type": "markdown",
   "metadata": {},
   "source": [
    "Используя определение верной цифры числа, определим количество верных цифр для каждого значения определителя:"
   ]
  },
  {
   "cell_type": "code",
   "execution_count": 15,
   "metadata": {},
   "outputs": [
    {
     "data": {
      "text/html": [
       "<div>\n",
       "<style scoped>\n",
       "    .dataframe tbody tr th:only-of-type {\n",
       "        vertical-align: middle;\n",
       "    }\n",
       "\n",
       "    .dataframe tbody tr th {\n",
       "        vertical-align: top;\n",
       "    }\n",
       "\n",
       "    .dataframe thead th {\n",
       "        text-align: right;\n",
       "    }\n",
       "</style>\n",
       "<table border=\"1\" class=\"dataframe\">\n",
       "  <thead>\n",
       "    <tr style=\"text-align: right;\">\n",
       "      <th></th>\n",
       "      <th>Определитель</th>\n",
       "      <th>Абсолютная ошибка</th>\n",
       "      <th>Относительная ошибка</th>\n",
       "      <th>Количество верных цифр</th>\n",
       "    </tr>\n",
       "  </thead>\n",
       "  <tbody>\n",
       "    <tr>\n",
       "      <th>0</th>\n",
       "      <td>-2.65</td>\n",
       "      <td>1.35</td>\n",
       "      <td>0.3375</td>\n",
       "      <td>0</td>\n",
       "    </tr>\n",
       "    <tr>\n",
       "      <th>1</th>\n",
       "      <td>-4.69</td>\n",
       "      <td>0.69</td>\n",
       "      <td>0.1725</td>\n",
       "      <td>1</td>\n",
       "    </tr>\n",
       "    <tr>\n",
       "      <th>2</th>\n",
       "      <td>-2.40</td>\n",
       "      <td>1.60</td>\n",
       "      <td>0.4000</td>\n",
       "      <td>0</td>\n",
       "    </tr>\n",
       "  </tbody>\n",
       "</table>\n",
       "</div>"
      ],
      "text/plain": [
       "   Определитель  Абсолютная ошибка  Относительная ошибка  \\\n",
       "0         -2.65               1.35                0.3375   \n",
       "1         -4.69               0.69                0.1725   \n",
       "2         -2.40               1.60                0.4000   \n",
       "\n",
       "   Количество верных цифр  \n",
       "0                       0  \n",
       "1                       1  \n",
       "2                       0  "
      ]
     },
     "execution_count": 15,
     "metadata": {},
     "output_type": "execute_result"
    }
   ],
   "source": [
    "right_digits = [0, 1, 0]\n",
    "df['Количество верных цифр'] = right_digits\n",
    "df"
   ]
  },
  {
   "cell_type": "markdown",
   "metadata": {},
   "source": [
    "$\\textbf{Замечание:}$ в таблице значения определителей с внесенными погрешностями указаны по очереди начиная с первого диагонального элемента"
   ]
  },
  {
   "cell_type": "markdown",
   "metadata": {},
   "source": [
    "#### Задание 1.6"
   ]
  },
  {
   "cell_type": "markdown",
   "metadata": {},
   "source": [
    "Для пакета MATHCAD найти значения машинного нуля, машинной бесконечности, машинного эпсилон. \n",
    "\n",
    "$\\textbf{Примечание:}$ Вместо пакета MATHCAD будет использован С++."
   ]
  },
  {
   "cell_type": "markdown",
   "metadata": {},
   "source": [
    "См. прикрепленный файл Source.cpp"
   ]
  },
  {
   "cell_type": "markdown",
   "metadata": {},
   "source": [
    "Вывод программы:"
   ]
  },
  {
   "cell_type": "markdown",
   "metadata": {},
   "source": [
    "<div style='float:left'><img width=800 src=\"image.png\" alt=\"Python\"></img></div>"
   ]
  },
  {
   "cell_type": "markdown",
   "metadata": {},
   "source": [
    "(нужно, чтобы image.png находился в одной директории с данным ipynb файлом)"
   ]
  },
  {
   "cell_type": "markdown",
   "metadata": {},
   "source": [
    "#### Задание 1.7"
   ]
  },
  {
   "cell_type": "markdown",
   "metadata": {},
   "source": [
    "Вычислить значения машинного нуля, машинной бесконечности, машинного эпсилон в режимах одинарной и двойной точности на алгоритмическом языке. Сравнить результаты с результатами задачи 1.6."
   ]
  },
  {
   "cell_type": "code",
   "execution_count": 16,
   "metadata": {},
   "outputs": [],
   "source": [
    "def machine_epsilon(precision):\n",
    "    i = 0\n",
    "    epsilon = precision(1)\n",
    "    while precision(1 + epsilon) != 1:\n",
    "        epsilon /= 2\n",
    "        i += 1\n",
    "    return 2.0**(-i + 1)"
   ]
  },
  {
   "cell_type": "code",
   "execution_count": 17,
   "metadata": {},
   "outputs": [],
   "source": [
    "def machine_zero(precision):\n",
    "    i = 0\n",
    "    zero = precision(1)\n",
    "    while precision(zero) != 0:\n",
    "        zero /= 2\n",
    "        i += 1\n",
    "    return 2.0**(-i + 1)"
   ]
  },
  {
   "cell_type": "code",
   "execution_count": 18,
   "metadata": {},
   "outputs": [],
   "source": [
    "def machine_infinity(precision):\n",
    "    i = 0\n",
    "    inf = 1\n",
    "    while inf != np.inf:\n",
    "        try:\n",
    "            inf = precision(2.0*inf)\n",
    "        except OverflowError:\n",
    "            return 2.0**(i - 1)\n",
    "        i += 1\n",
    "    return 2.0**(i - 1)"
   ]
  },
  {
   "cell_type": "markdown",
   "metadata": {},
   "source": [
    "Одинараная точность:"
   ]
  },
  {
   "cell_type": "code",
   "execution_count": 19,
   "metadata": {},
   "outputs": [
    {
     "name": "stdout",
     "output_type": "stream",
     "text": [
      "Machine epsilon: 1.1920928955078125e-07\n",
      "Machine zero: 1.401298464324817e-45\n",
      "Machine infinity: 1.7014118346046923e+38\n"
     ]
    }
   ],
   "source": [
    "prec = np.float32\n",
    "print('Machine epsilon: {}'.format(machine_epsilon(prec)))\n",
    "print('Machine zero: {}'.format(machine_zero(prec)))\n",
    "print('Machine infinity: {}'.format(machine_infinity(prec)))"
   ]
  },
  {
   "cell_type": "markdown",
   "metadata": {},
   "source": [
    "Двойная точность:"
   ]
  },
  {
   "cell_type": "code",
   "execution_count": 20,
   "metadata": {},
   "outputs": [
    {
     "name": "stdout",
     "output_type": "stream",
     "text": [
      "Machine epsilon: 2.220446049250313e-16\n",
      "Machine zero: 5e-324\n",
      "Machine infinity: 8.98846567431158e+307\n"
     ]
    },
    {
     "name": "stderr",
     "output_type": "stream",
     "text": [
      "c:\\users\\proko\\appdata\\local\\programs\\python\\python36\\lib\\site-packages\\ipykernel_launcher.py:6: RuntimeWarning: overflow encountered in double_scalars\n",
      "  \n"
     ]
    }
   ],
   "source": [
    "prec = np.float64\n",
    "print('Machine epsilon: {}'.format(machine_epsilon(prec)))\n",
    "print('Machine zero: {}'.format(machine_zero(prec)))\n",
    "print('Machine infinity: {}'.format(machine_infinity(prec)))"
   ]
  },
  {
   "cell_type": "markdown",
   "metadata": {},
   "source": [
    "Как видно, результаты совпали с пунктом 1.6"
   ]
  },
  {
   "cell_type": "markdown",
   "metadata": {},
   "source": [
    "#### Задача 1.9.4"
   ]
  },
  {
   "cell_type": "markdown",
   "metadata": {},
   "source": [
    "Для матрицы A решить вопрос о существовании обратной матрицы  в следующих случаях: \n",
    "1. элементы матрицы заданы точно; \n",
    "2. элементы матрицы заданы приближенно с относительной погрешностью  a) $δ =α\\%$ и  b) $δ = β\\%$.  Найти \n",
    "относительную погрешность результата."
   ]
  },
  {
   "cell_type": "markdown",
   "metadata": {},
   "source": [
    "$A = \\begin{pmatrix} 9 & 5 & 6\\\\ 13.5 & 9.5 & 11\\\\ 8 & 4 & 5 \\\\ \\end{pmatrix}$ \\\n",
    "$\\alpha = 0.1$ \\\n",
    "$\\beta = 0.5$"
   ]
  },
  {
   "cell_type": "code",
   "execution_count": 21,
   "metadata": {},
   "outputs": [],
   "source": [
    "A = np.array([[9, 5, 6],\n",
    "              [13.5, 9.5, 11],\n",
    "              [8, 4, 5]], dtype=np.float)"
   ]
  },
  {
   "cell_type": "code",
   "execution_count": 22,
   "metadata": {},
   "outputs": [
    {
     "data": {
      "text/plain": [
       "2.0000000000000178"
      ]
     },
     "execution_count": 22,
     "metadata": {},
     "output_type": "execute_result"
    }
   ],
   "source": [
    "true_det = np.linalg.det(A)\n",
    "true_det"
   ]
  },
  {
   "cell_type": "code",
   "execution_count": 23,
   "metadata": {},
   "outputs": [],
   "source": [
    "import itertools\n",
    "def get_appr_dets(A, alpha, true_det):\n",
    "    dets = []\n",
    "    rel_errors = []\n",
    "    dim = A.shape[0] * A.shape[1]\n",
    "    iter_matrices = itertools.product([0,1], repeat = dim) \n",
    "    \n",
    "    for iter_m in iter_matrices:\n",
    "        flat_A = A.flatten()\n",
    "        for i in range(dim):\n",
    "            flat_A[i] *= 1 - alpha*(-1)**(iter_m[i])\n",
    "\n",
    "        A_err = flat_A.reshape((A.shape[0], A.shape[1]))\n",
    "        det = np.linalg.det(A_err)\n",
    "        dets.append(det)\n",
    "        rel_errors.append(np.abs(true_det - det)/np.abs(true_det))\n",
    "        \n",
    "    return dets, rel_errors"
   ]
  },
  {
   "cell_type": "markdown",
   "metadata": {},
   "source": [
    "a) Для относительной погрешности $δ = \\alpha = 0.1\\%$:"
   ]
  },
  {
   "cell_type": "code",
   "execution_count": 24,
   "metadata": {},
   "outputs": [
    {
     "name": "stdout",
     "output_type": "stream",
     "text": [
      "Минимальное значение определителя: 1.4694700020000209\n",
      "Максимальное значение определителя: 2.5294699979999686\n"
     ]
    }
   ],
   "source": [
    "det_alpha, rel_errors_alpha = get_appr_dets(A, 0.001, true_det)\n",
    "print('Минимальное значение определителя:', np.min(det_alpha))\n",
    "print('Максимальное значение определителя:', np.max(det_alpha))"
   ]
  },
  {
   "cell_type": "markdown",
   "metadata": {},
   "source": [
    "б) Для относительной погрешности $δ = \\beta = 0.5\\%$:"
   ]
  },
  {
   "cell_type": "code",
   "execution_count": 25,
   "metadata": {},
   "outputs": [
    {
     "name": "stdout",
     "output_type": "stream",
     "text": [
      "Минимальное значение определителя: -0.6632497499999891\n",
      "Максимальное значение определителя: 4.636749749999997\n"
     ]
    }
   ],
   "source": [
    "det_beta, rel_errors_beta = get_appr_dets(A, 0.005, true_det)\n",
    "print('Минимальное значение определителя:', np.min(det_beta))\n",
    "print('Максимальное значение определителя:', np.max(det_beta))"
   ]
  },
  {
   "cell_type": "markdown",
   "metadata": {},
   "source": [
    "Как видно, в первом случае неопределенности нет, так интервал $[m, M]$ не содержит $0$, то есть для матрицы существует обратная. \\\n",
    "Во втором же случае имеет место неопределенность, так как интервал $[m, M]$ содержит $0$, то есть матрица необратима."
   ]
  },
  {
   "cell_type": "code",
   "execution_count": 26,
   "metadata": {},
   "outputs": [
    {
     "data": {
      "image/png": "[encoded data removed]",
      "text/plain": [
       "<Figure size 864x432 with 1 Axes>"
      ]
     },
     "metadata": {
      "needs_background": "light"
     },
     "output_type": "display_data"
    }
   ],
   "source": [
    "plt.figure(figsize=(12,6))\n",
    "plt.hist(rel_errors_alpha)\n",
    "plt.grid()\n",
    "plt.title('Гистограмма относительной погрешности определителя при погрешности 0.1%')\n",
    "plt.show()"
   ]
  },
  {
   "cell_type": "code",
   "execution_count": 27,
   "metadata": {},
   "outputs": [
    {
     "data": {
      "image/png": "[encoded data removed]",
      "text/plain": [
       "<Figure size 864x432 with 1 Axes>"
      ]
     },
     "metadata": {
      "needs_background": "light"
     },
     "output_type": "display_data"
    }
   ],
   "source": [
    "plt.figure(figsize=(12,6))\n",
    "plt.hist(rel_errors_beta)\n",
    "plt.grid()\n",
    "plt.title('Гистограмма относительной погрешности определителя при погрешности 0.5%')\n",
    "plt.show()"
   ]
  },
  {
   "cell_type": "markdown",
   "metadata": {},
   "source": [
    "Как видно из гистограмм относительных ошибок для определителей:\n",
    "1. В первом случае значения не превышают 1\n",
    "2. Во втором случаем есть значения, которые превышают 1 \\\n",
    "Это согласуется с полученными выше результатами"
   ]
  }
 ],
 "metadata": {
  "kernelspec": {
   "display_name": "Python 3",
   "language": "python",
   "name": "python3"
  },
  "language_info": {
   "codemirror_mode": {
    "name": "ipython",
    "version": 3
   },
   "file_extension": ".py",
   "mimetype": "text/x-python",
   "name": "python",
   "nbconvert_exporter": "python",
   "pygments_lexer": "ipython3",
   "version": "3.6.8"
  }
 },
 "nbformat": 4,
 "nbformat_minor": 2
}
