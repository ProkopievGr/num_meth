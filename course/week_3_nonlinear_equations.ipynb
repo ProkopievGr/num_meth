{
 "cells": [
  {
   "cell_type": "markdown",
   "metadata": {},
   "source": [
    "# Part I. Root-finding. Newton's iteration."
   ]
  },
  {
   "cell_type": "markdown",
   "metadata": {},
   "source": [
    "Write a function which performs Newton's iteration for a given function $f(x)$ with known derivative $f'(x)$. Your function should find the root of $f(x)$ with a predefined absolute accuracy $\\epsilon$. "
   ]
  },
  {
   "cell_type": "code",
   "execution_count": 1,
   "metadata": {},
   "outputs": [],
   "source": [
    "def newton_iteration(f, fder, x0, eps=1e-5, maxiter=1000):\n",
    "    \"\"\"Find a root of $f(x) = 0$ via Newton's iteration starting from x0.\n",
    "    \n",
    "    Parameters\n",
    "    ----------\n",
    "    f : callable\n",
    "        The function to find a root of.\n",
    "    fder : callable\n",
    "        The derivative of `f`.\n",
    "    x0 : float\n",
    "        Initial value for the Newton's iteration.\n",
    "    eps : float\n",
    "        The target accuracy. \n",
    "        The iteration stops when the distance between successive iterates is below `eps`.\n",
    "        Default is 1e-5.\n",
    "    maxiter : int\n",
    "        The maximum number of iterations (default is 1000.)\n",
    "        Iterations terminate if the number of iterations exceeds `maxiter`.\n",
    "        This parameter is only needed to avoid infinite loops if iterations wander off.\n",
    "        \n",
    "    Returns\n",
    "    -------\n",
    "    x : float\n",
    "        The estimate for the root.\n",
    "    niter : int\n",
    "        The number of iterations.\n",
    "    \"\"\"\n",
    "    # ... ENTER YOUR CODE HERE ...\n",
    "    \n",
    "    x_root = x0 - f(x0)/fder(x0)\n",
    "    \n",
    "    i = 0\n",
    "    while abs(x_root - x0) > eps:\n",
    "        if i > maxiter:\n",
    "            break\n",
    "        x0 = x_root\n",
    "        x_root = x_root - f(x_root)/fder(x_root)\n",
    "        i += 1\n",
    "        \n",
    "    return (x_root, i)"
   ]
  },
  {
   "cell_type": "markdown",
   "metadata": {},
   "source": [
    "### Test I.1 \n",
    "\n",
    "Test your implementation on a simple example, $f(x) = x^2 - 1$ or similar. (20% of the total grade)"
   ]
  },
  {
   "cell_type": "code",
   "execution_count": 2,
   "metadata": {},
   "outputs": [
    {
     "name": "stdout",
     "output_type": "stream",
     "text": [
      "(1.000000000000001, 4)\n",
      "(-1.000000000000001, 4)\n"
     ]
    }
   ],
   "source": [
    "def f(x):\n",
    "    return x**2 - 1\n",
    "\n",
    "def fder(x):\n",
    "    return 2*x\n",
    "\n",
    "print(newton_iteration(f, fder, 0.5))\n",
    "print(newton_iteration(f, fder, -0.5))"
   ]
  },
  {
   "cell_type": "markdown",
   "metadata": {},
   "source": [
    "### Test I.2\n",
    "\n",
    "Now consider a function which has a multiple root. Take $f(x) = (x^2 - 1)^2$ as an example. Implement a modified Newton's iteraion,\n",
    "\n",
    "$$\n",
    "x_{n+1} = x_{n} - m \\frac{f(x_n)}{f'(x_n)}\n",
    "$$\n",
    "\n",
    "and vary $m= 1, 2, 3, 4, 5$. Check the number of iterations required for convergence within a fixed $\\epsilon$. Are your observations consistent with the expectation that the convergence is quadratic is $m$ equals the multiplicity of the root, and is linear otherwise? (40% of the total grade)"
   ]
  },
  {
   "cell_type": "code",
   "execution_count": 3,
   "metadata": {},
   "outputs": [],
   "source": [
    "# ... ENTER YOUR CODE HERE ...\n",
    "def newton_modified(f, fder, x0, m, eps=1e-5, maxiter=1000):\n",
    "    x_root = x0 - f(x0)/fder(x0)\n",
    "    i = 0\n",
    "    while abs(x_root - x0) > eps:\n",
    "        if i > maxiter:\n",
    "            break\n",
    "        x0 = x_root\n",
    "        x_root = x_root - m*f(x_root)/fder(x_root)\n",
    "        i += 1\n",
    "        \n",
    "    return (x_root, i)"
   ]
  },
  {
   "cell_type": "code",
   "execution_count": 4,
   "metadata": {},
   "outputs": [],
   "source": [
    "def f2(x):\n",
    "    return (x**2 - 1)**2\n",
    "\n",
    "def f2der(x):\n",
    "    return 4*(x**2 - 1)*x"
   ]
  },
  {
   "cell_type": "code",
   "execution_count": 5,
   "metadata": {},
   "outputs": [
    {
     "name": "stdout",
     "output_type": "stream",
     "text": [
      "(-0.9999933268860306, 14) (0.9999933268860306, 14)\n",
      "(-1.0, 4) (1.0, 4)\n",
      "(-0.9999978588127855, 16) (0.9999978588127855, 16)\n",
      "(-1.1428571428571428, 1001) (1.1428571428571428, 1001)\n",
      "(0.7688895208952304, 1001) (-0.7688895208952304, 1001)\n"
     ]
    }
   ],
   "source": [
    "for m in range(1, 6):\n",
    "    print(newton_modified(f2, f2der, -0.5, m), newton_modified(f2, f2der, 0.5, m))"
   ]
  },
  {
   "cell_type": "markdown",
   "metadata": {},
   "source": [
    "As can be seen, the algorithm's convergence is actually quadratic if m equals multiplicity of the root."
   ]
  },
  {
   "cell_type": "markdown",
   "metadata": {},
   "source": [
    "# Part II. Fixed-point iteration"
   ]
  },
  {
   "cell_type": "markdown",
   "metadata": {},
   "source": [
    "Consider the following equation:\n",
    "\n",
    "$$\n",
    "\\sqrt{x} = \\cos{x}\n",
    "$$\n",
    "\n",
    "Plot the left-hand side and right-hand side of this equation, and localize the root graphically. Estimate the location of the root by visual inspection of the plot.\n",
    "\n",
    "Write a function which finds the solution using fixed-point iteration up to a predefined accuracy $\\epsilon$. Compare the result to an estimate from a visual inspection.\n",
    "\n",
    "Next, rewrite the fixed-point problem in the form\n",
    "\n",
    "$$\n",
    "x = x - \\alpha f(x)\n",
    "$$\n",
    "\n",
    "where $\\alpha$ is the free parameter. Check the dependence of the number of iterations required for a given $\\epsilon$ on $\\alpha$. Compare your results to an expectation that the optimal value of $\\alpha$ is given by \n",
    "\n",
    "$$\n",
    "\\alpha = \\frac{2}{m + M}\n",
    "$$\n",
    "\n",
    "where $0 < m < |f'(x)| < M$ over the localization interval. (40% of the total grade)"
   ]
  },
  {
   "cell_type": "code",
   "execution_count": 6,
   "metadata": {},
   "outputs": [],
   "source": [
    "# ... ENTER YOUR CODE HERE ...\n",
    "import matplotlib.pyplot as plt\n",
    "import numpy as np"
   ]
  },
  {
   "cell_type": "code",
   "execution_count": 7,
   "metadata": {},
   "outputs": [
    {
     "data": {
      "image/png": "[encoded data removed]",
      "text/plain": [
       "<Figure size 432x288 with 1 Axes>"
      ]
     },
     "metadata": {
      "needs_background": "light"
     },
     "output_type": "display_data"
    }
   ],
   "source": [
    "x = np.linspace(0, np.pi, num=1e4)\n",
    "\n",
    "plt.plot(x, np.cos(x), c='b')\n",
    "plt.plot(x, x**0.5, c='r')\n",
    "plt.grid()"
   ]
  },
  {
   "cell_type": "markdown",
   "metadata": {},
   "source": [
    "It's clearly seen that the root is in [0.5, 1]"
   ]
  },
  {
   "cell_type": "code",
   "execution_count": 9,
   "metadata": {},
   "outputs": [],
   "source": [
    "def f3(x):\n",
    "    return x**0.5 - np.cos(x)"
   ]
  },
  {
   "cell_type": "code",
   "execution_count": 10,
   "metadata": {},
   "outputs": [],
   "source": [
    "def f3der(x):\n",
    "    return 1/(2*x**0.5) + np.sin(x)"
   ]
  },
  {
   "cell_type": "code",
   "execution_count": 11,
   "metadata": {},
   "outputs": [],
   "source": [
    "def fixed_point(f, x0, eps=1e-5, maxiter=1000):\n",
    "    x_root = x0 - f(x0)\n",
    "    i = 0\n",
    "    while abs(x_root - x0) > eps:\n",
    "        if i > maxiter:\n",
    "            break\n",
    "        x0 = x_root\n",
    "        x_root = x_root - f(x_root)\n",
    "        i += 1\n",
    "\n",
    "    return (x_root, i)"
   ]
  },
  {
   "cell_type": "code",
   "execution_count": 12,
   "metadata": {},
   "outputs": [
    {
     "data": {
      "text/plain": [
       "(0.6417137903006992, 8)"
      ]
     },
     "execution_count": 12,
     "metadata": {},
     "output_type": "execute_result"
    }
   ],
   "source": [
    "fixed_point(f3, 1)"
   ]
  },
  {
   "cell_type": "code",
   "execution_count": 13,
   "metadata": {},
   "outputs": [],
   "source": [
    "def fixed_point2(f, x0, alpha, eps=1e-5, maxiter=1000):\n",
    "    x_root = x0 - alpha*f(x0)\n",
    "    i = 1\n",
    "    while abs(x_root - x0) > eps:\n",
    "        if i > maxiter:\n",
    "            break\n",
    "        x0 = x_root\n",
    "        x_root = x_root - alpha*f(x_root)\n",
    "        i += 1\n",
    "\n",
    "    return (x_root, i)"
   ]
  },
  {
   "cell_type": "code",
   "execution_count": 14,
   "metadata": {},
   "outputs": [
    {
     "name": "stdout",
     "output_type": "stream",
     "text": [
      "alpha 0.1: (0.6417850158137975, 65)\n",
      "alpha 0.2: (0.6417386891023359, 34)\n",
      "alpha 0.3: (0.6417286627717044, 22)\n",
      "alpha 0.4: (0.6417213999434185, 16)\n",
      "alpha 0.5: (0.6417181246483796, 12)\n",
      "alpha 0.6: (0.6417163759224058, 9)\n",
      "alpha 0.7: (0.6417146867180661, 7)\n",
      "alpha 0.8: (0.641714267086578, 4)\n",
      "alpha 0.9: (0.6417148989113136, 6)\n",
      "alpha 1.0: (0.6417137903006992, 9)\n"
     ]
    }
   ],
   "source": [
    "for alpha in np.arange(0.1, 1+1e-1, 1e-1):\n",
    "    print('alpha %.1f:' % alpha, fixed_point2(f3, 1, alpha))"
   ]
  },
  {
   "cell_type": "code",
   "execution_count": 15,
   "metadata": {},
   "outputs": [
    {
     "name": "stdout",
     "output_type": "stream",
     "text": [
      "theoretical alpha = 0.79\n"
     ]
    }
   ],
   "source": [
    "M = np.max(f3der(np.linspace(0.5, 1, num=1e4)))\n",
    "m = np.min(f3der(np.linspace(0.5, 1, num=1e4)))\n",
    "alpha_ = 2/(M + m)\n",
    "print('theoretical alpha = %.2f' % alpha_)"
   ]
  },
  {
   "cell_type": "markdown",
   "metadata": {},
   "source": [
    "The results obtained from the grid search for alpha satisfies the theoretical (optimal) alpha"
   ]
  },
  {
   "cell_type": "markdown",
   "metadata": {},
   "source": [
    "# Part III. Newton's fractal.\n",
    "\n",
    "(Not graded). \n",
    "\n",
    "Consider the equation\n",
    "\n",
    "$$\n",
    "x^3 = 1\n",
    "$$\n",
    "\n",
    "It has three solutions in the complex plane, $x_k = \\exp(i\\, 2\\pi k/ 3)$, $k = 0, 1, 2$.\n",
    "\n",
    "The Newton's iterations converge to one of these solutions, depending on the starting point in the complex plane (to converge to a complex-valued solution, the iteration needs a complex-valued starting point).\n",
    "\n",
    "Plot the \\emph{basins of attraction} of these roots on the complex plane of $x$ (i.e., on the plane $\\mathrm{Re}x$ -- $\\mathrm{Im}x$). To this end, make a series of calculations, varying the initial conditions on a grid of points. \n",
    "Color the grid in three colors, according to the root, to which iterations converged."
   ]
  },
  {
   "cell_type": "code",
   "execution_count": null,
   "metadata": {
    "collapsed": true
   },
   "outputs": [],
   "source": []
  }
 ],
 "metadata": {
  "kernelspec": {
   "display_name": "Python 3",
   "language": "python",
   "name": "python3"
  },
  "language_info": {
   "codemirror_mode": {
    "name": "ipython",
    "version": 3
   },
   "file_extension": ".py",
   "mimetype": "text/x-python",
   "name": "python",
   "nbconvert_exporter": "python",
   "pygments_lexer": "ipython3",
   "version": "3.6.8"
  }
 },
 "nbformat": 4,
 "nbformat_minor": 2
}
