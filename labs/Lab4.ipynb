{
 "cells": [
  {
   "cell_type": "markdown",
   "metadata": {},
   "source": [
    "### Лабораторная работа 4"
   ]
  },
  {
   "cell_type": "markdown",
   "metadata": {},
   "source": [
    "#### Решение систем линейных алгебраических уравнений прямыми методами. Теория возмущений"
   ]
  },
  {
   "cell_type": "markdown",
   "metadata": {},
   "source": [
    "Прокопьев Григорий <br>\n",
    "Вариант 21 (3.1.21, 3.5.6, 3.6.5)"
   ]
  },
  {
   "cell_type": "code",
   "execution_count": 1,
   "metadata": {},
   "outputs": [],
   "source": [
    "import numpy as np\n",
    "import numpy.linalg as nla"
   ]
  },
  {
   "cell_type": "code",
   "execution_count": 2,
   "metadata": {},
   "outputs": [],
   "source": [
    "def pretty_print(A, b, w=10):\n",
    "    for i in range(n):\n",
    "        print('|', end='')\n",
    "        \n",
    "        for j in range(n):\n",
    "            print('{:f}'.format(A[i, j]).rjust(w), end='')\n",
    "            \n",
    "        print(' |\\t', '| x_{:d} |'.format(i), end='')\n",
    "        \n",
    "        if i == n//2:\n",
    "            print('   =', '|{:.0f}|'.format(b[i]).rjust(w-3))\n",
    "        else:\n",
    "            print('|{:.0f}|'.format(b[i]).rjust(w+2))"
   ]
  },
  {
   "cell_type": "markdown",
   "metadata": {},
   "source": [
    "#### Задача 3.1.21:"
   ]
  },
  {
   "cell_type": "markdown",
   "metadata": {},
   "source": [
    "Дана система уравнений $Ax=b$ порядка $n$. Исследовать зависимость погрешности решения $x$ от погрешности правой части системы $b$."
   ]
  },
  {
   "cell_type": "markdown",
   "metadata": {},
   "source": [
    "1) Задание системы:"
   ]
  },
  {
   "cell_type": "code",
   "execution_count": 3,
   "metadata": {},
   "outputs": [],
   "source": [
    "n = 6\n",
    "N = 21"
   ]
  },
  {
   "cell_type": "code",
   "execution_count": 4,
   "metadata": {},
   "outputs": [],
   "source": [
    "A = np.empty((n, n))\n",
    "b = np.empty(n)"
   ]
  },
  {
   "cell_type": "code",
   "execution_count": 5,
   "metadata": {},
   "outputs": [
    {
     "name": "stdout",
     "output_type": "stream",
     "text": [
      "| 44.462229  7.873520  2.709168  1.243187  0.671874  0.403770 |\t | x_0 |        |21|\n",
      "|  7.873520  1.243187  0.403770  0.178944  0.094482  0.055841 |\t | x_1 |        |21|\n",
      "|  2.709168  0.403770  0.127830  0.055841  0.029212  0.017154 |\t | x_2 |        |21|\n",
      "|  1.243187  0.178944  0.055841  0.024201  0.012598  0.007372 |\t | x_3 |   =    |21|\n",
      "|  0.671874  0.094482  0.029212  0.012598  0.006537  0.003817 |\t | x_4 |        |21|\n",
      "|  0.403770  0.055841  0.017154  0.007372  0.003817  0.002226 |\t | x_5 |        |21|\n"
     ]
    }
   ],
   "source": [
    "for i in range(n):\n",
    "    for j in range(n):\n",
    "        c = 0.1 * N * (i+1) * (j+1)\n",
    "        A[i,j] = 1000 / ((3+c) * c**2)\n",
    "b.fill(N)\n",
    "\n",
    "pretty_print(A, b)"
   ]
  },
  {
   "cell_type": "markdown",
   "metadata": {},
   "source": [
    "Слева выведена матрица $ А $, справа $-$ правая часть системы $b$"
   ]
  },
  {
   "cell_type": "markdown",
   "metadata": {},
   "source": [
    "Найдем решение системы с помощью встроенной функции Numpy:"
   ]
  },
  {
   "cell_type": "code",
   "execution_count": 6,
   "metadata": {},
   "outputs": [
    {
     "name": "stdout",
     "output_type": "stream",
     "text": [
      "       583328.374632\n",
      "   -128347861.371134\n",
      "   2878120492.182710\n",
      " -17178467334.355768\n",
      "  35516027740.729752\n",
      " -23079784843.863583\n"
     ]
    }
   ],
   "source": [
    "x = nla.solve(A, b)\n",
    "\n",
    "for i in range(n):\n",
    "    print('{:10.6f}'.format(x[i]).rjust(20))"
   ]
  },
  {
   "cell_type": "markdown",
   "metadata": {},
   "source": [
    "2) Найдем число обусловленности матрицы $A$:"
   ]
  },
  {
   "cell_type": "code",
   "execution_count": 7,
   "metadata": {},
   "outputs": [
    {
     "data": {
      "text/plain": [
       "3749056998771.7"
      ]
     },
     "execution_count": 7,
     "metadata": {},
     "output_type": "execute_result"
    }
   ],
   "source": [
    "cond = nla.cond(A, p=np.inf)\n",
    "cond"
   ]
  },
  {
   "cell_type": "markdown",
   "metadata": {},
   "source": [
    "3) Внесем погрешность по очереди в компоненты вектора $b$ и найдем относительные погрешности решений полученных систем:"
   ]
  },
  {
   "cell_type": "code",
   "execution_count": 8,
   "metadata": {},
   "outputs": [],
   "source": [
    "d = np.empty(n)\n",
    "b_err = np.empty(n)\n",
    "\n",
    "for i in range(n):\n",
    "    b_ = b.copy()\n",
    "    # за погрешность равна 0.1 от значения b[i]\n",
    "    b_[i] *= 1.1\n",
    "    \n",
    "    x_ = nla.solve(A, b_)\n",
    "    \n",
    "    d[i] = nla.norm(x - x_, ord=np.inf)\n",
    "    b_err[i] = nla.norm(b - b_, ord=np.inf)\n",
    "    \n",
    "d /= nla.norm(x, ord=np.inf)\n",
    "b_err /= nla.norm(b, ord=np.inf)"
   ]
  },
  {
   "cell_type": "markdown",
   "metadata": {},
   "source": [
    "4) Определим компоненту $b$, которая оказывает наибольшее влияние на погрешность решения:"
   ]
  },
  {
   "cell_type": "code",
   "execution_count": 9,
   "metadata": {},
   "outputs": [
    {
     "data": {
      "text/plain": [
       "array([2.55215390e-05, 6.00894225e-03, 1.38259580e-01, 8.36475577e-01,\n",
       "       1.74390313e+00, 1.13970371e+00])"
      ]
     },
     "execution_count": 9,
     "metadata": {},
     "output_type": "execute_result"
    }
   ],
   "source": [
    "d"
   ]
  },
  {
   "cell_type": "code",
   "execution_count": 10,
   "metadata": {},
   "outputs": [
    {
     "data": {
      "text/plain": [
       "4"
      ]
     },
     "execution_count": 10,
     "metadata": {},
     "output_type": "execute_result"
    }
   ],
   "source": [
    "np.argmax(d)"
   ]
  },
  {
   "cell_type": "markdown",
   "metadata": {},
   "source": [
    "5) Оценим теоретически относительную погрешность и сравним с практически посчитанной погрешностью:"
   ]
  },
  {
   "cell_type": "markdown",
   "metadata": {},
   "source": [
    "$\\delta(x^{m}) \\leq cond(A) \\cdot \\delta(b^{m})$"
   ]
  },
  {
   "cell_type": "markdown",
   "metadata": {},
   "source": [
    "$cond(A) \\cdot \\delta(b^{m})$:"
   ]
  },
  {
   "cell_type": "code",
   "execution_count": 11,
   "metadata": {},
   "outputs": [
    {
     "data": {
      "text/plain": [
       "374905699877.1702"
      ]
     },
     "execution_count": 11,
     "metadata": {},
     "output_type": "execute_result"
    }
   ],
   "source": [
    "cond * b_err[4]"
   ]
  },
  {
   "cell_type": "markdown",
   "metadata": {},
   "source": [
    "Практически посчитанная погрешность:"
   ]
  },
  {
   "cell_type": "code",
   "execution_count": 12,
   "metadata": {},
   "outputs": [
    {
     "data": {
      "text/plain": [
       "1.743903131662153"
      ]
     },
     "execution_count": 12,
     "metadata": {},
     "output_type": "execute_result"
    }
   ],
   "source": [
    "d[4]"
   ]
  },
  {
   "cell_type": "markdown",
   "metadata": {},
   "source": [
    "Как видно, теоретическая верхняя граница относительной погрешности больше практической погрешности: это числа разных порядков. Это объясняется плохой обусловленностью матрицы $A$: ее число обусловленности $cond(A)$ гораздо больше 1:"
   ]
  },
  {
   "cell_type": "code",
   "execution_count": 13,
   "metadata": {},
   "outputs": [
    {
     "data": {
      "text/plain": [
       "3749056998771.7"
      ]
     },
     "execution_count": 13,
     "metadata": {},
     "output_type": "execute_result"
    }
   ],
   "source": [
    "cond"
   ]
  },
  {
   "cell_type": "markdown",
   "metadata": {},
   "source": [
    "#### Задача 3.5.6"
   ]
  },
  {
   "cell_type": "markdown",
   "metadata": {},
   "source": [
    "Дана система уравнений $Ax=b$ порядка $n$ с симметричной положительно определенной матрицей $A$. Решить систему  методом Холецкого."
   ]
  },
  {
   "cell_type": "markdown",
   "metadata": {},
   "source": [
    "0) Задание системы:"
   ]
  },
  {
   "cell_type": "code",
   "execution_count": 14,
   "metadata": {},
   "outputs": [],
   "source": [
    "n = 25\n",
    "m = 10"
   ]
  },
  {
   "cell_type": "code",
   "execution_count": 15,
   "metadata": {},
   "outputs": [],
   "source": [
    "A = np.empty((n,n))\n",
    "b = np.empty(n)"
   ]
  },
  {
   "cell_type": "markdown",
   "metadata": {},
   "source": [
    "Элементы матрицы $A$ вычисляются по формуле:"
   ]
  },
  {
   "cell_type": "markdown",
   "metadata": {},
   "source": [
    "\\begin{equation}\n",
    "A_{ij} = \n",
    " \\begin{cases}\n",
    "   \\frac{i+j}{m+n}, &i \\neq j\\\\\n",
    "   n+m^{2}+\\frac{j}{m}+\\frac{i}{n}, &i = j\n",
    " \\end{cases}\n",
    "\\end{equation}\n",
    "\n",
    "$$ i, j = 1,\\dots,n $$"
   ]
  },
  {
   "cell_type": "markdown",
   "metadata": {},
   "source": [
    "А элементы вектора $b$ $-$ по формуле:"
   ]
  },
  {
   "cell_type": "markdown",
   "metadata": {},
   "source": [
    "$$ b_{i} = i^{2} - n;\\quad\\\\\n",
    "i = 1,\\dots,n$$"
   ]
  },
  {
   "cell_type": "code",
   "execution_count": 16,
   "metadata": {},
   "outputs": [],
   "source": [
    "for i in range(n):\n",
    "    for j in range(n):\n",
    "        if i != j:\n",
    "            A[i,j] = (i+j+2)/(n+m)\n",
    "        else:\n",
    "            A[i,j] = n + m**2 + (j+1)/m + (i+1)/n\n",
    "            \n",
    "    b[i] = (i+1)**2 - n"
   ]
  },
  {
   "cell_type": "markdown",
   "metadata": {},
   "source": [
    "1) Найдем разложение Холецкого матрицы $A$, используя встроенную функцию numpy:"
   ]
  },
  {
   "cell_type": "code",
   "execution_count": 17,
   "metadata": {},
   "outputs": [],
   "source": [
    "L = nla.cholesky(A)"
   ]
  },
  {
   "cell_type": "markdown",
   "metadata": {},
   "source": [
    "2) Решим последовательно системы $Ly=b$ и $L^{T}x=y$"
   ]
  },
  {
   "cell_type": "code",
   "execution_count": 18,
   "metadata": {},
   "outputs": [],
   "source": [
    "y = nla.solve(L, b)"
   ]
  },
  {
   "cell_type": "code",
   "execution_count": 19,
   "metadata": {},
   "outputs": [],
   "source": [
    "x = nla.solve(L.T, y)"
   ]
  },
  {
   "cell_type": "markdown",
   "metadata": {},
   "source": [
    "Sanity check:"
   ]
  },
  {
   "cell_type": "code",
   "execution_count": 20,
   "metadata": {},
   "outputs": [
    {
     "data": {
      "text/plain": [
       "True"
      ]
     },
     "execution_count": 20,
     "metadata": {},
     "output_type": "execute_result"
    }
   ],
   "source": [
    "np.allclose(x, nla.solve(A, b))"
   ]
  },
  {
   "cell_type": "markdown",
   "metadata": {},
   "source": [
    "#### Задание 3.6.5"
   ]
  },
  {
   "cell_type": "markdown",
   "metadata": {},
   "source": [
    "Дана система уравнений $Ax=b$ порядка $n$, где $A=A(t)$, $t$ - параметр. Исследовать  зависимость решения системы $Ax=b$ от вычислительной погрешности при заданных значениях параметра t. "
   ]
  },
  {
   "cell_type": "markdown",
   "metadata": {},
   "source": [
    "Формула для задания элементов матрицы $A$:"
   ]
  },
  {
   "cell_type": "markdown",
   "metadata": {},
   "source": [
    "\\begin{equation}\n",
    "A_{ij} = \n",
    " \\begin{cases}\n",
    "    q_{M}^{j}, &i \\neq j\\\\\n",
    "    q_{M}^{j}+t, &i = j\n",
    " \\end{cases}\n",
    "\\end{equation}\n",
    "\n",
    "$$ \n",
    "i,j = 1,\\dots, n;\\quad\\\\\n",
    "q_{M} = 0.993 + (-1)^{M}\\cdot M \\cdot 10^{-4};\\quad\\\\\n",
    "t = 0.0001, 1, 10000\n",
    "$$"
   ]
  },
  {
   "cell_type": "markdown",
   "metadata": {},
   "source": [
    "Формула для задания элементов вектора $b$:"
   ]
  },
  {
   "cell_type": "markdown",
   "metadata": {},
   "source": [
    "$$\n",
    "b_{j} = q_{M}^{(n+1-j)}, \\\\\n",
    "j = 1, \\dots, n\n",
    "$$"
   ]
  },
  {
   "cell_type": "markdown",
   "metadata": {},
   "source": [
    "$$M = 5,\\quad\\\\\n",
    "n = 45,\\quad\\\\\n",
    "m = 4\\quad$$"
   ]
  },
  {
   "cell_type": "markdown",
   "metadata": {},
   "source": [
    "1) Функция, реализующая метод Гаусса:"
   ]
  },
  {
   "cell_type": "code",
   "execution_count": 21,
   "metadata": {},
   "outputs": [],
   "source": [
    "def Gauss_method(A, b, fround):\n",
    "    # fround - функция округления до m знаков после запятой\n",
    "    # для вычисления без округления можно задать fround=lambda x: x \n",
    "    A_ = A.copy()\n",
    "    b_ = b.copy()\n",
    "    \n",
    "    for j in range(A.shape[1]):\n",
    "        r = np.argmax(np.abs(A_[j:,j])) + j\n",
    "        if r != j:\n",
    "            A_[[r, j]] = A_[[j, r]]\n",
    "            b_[[r, j]] = b_[[j, r]]\n",
    "        \n",
    "        div = A_[j,j]\n",
    "        A_[j] = fround(A_[j] / div)\n",
    "        b_[j] = fround(b_[j] / div)\n",
    "        \n",
    "        \n",
    "        for i in range(j+1, A.shape[0]):\n",
    "            w = -A_[i, j]\n",
    "            A_[i] = fround(A_[i] + w * A_[j])\n",
    "            b_[i] = fround(b_[i] + w * b_[j])\n",
    "            \n",
    "        x = np.zeros_like(b)\n",
    "        for i in range(A.shape[1]-1, -1, -1):\n",
    "            x[i] = fround(b_[i] - A_[i,i+1:] @ x[i+1:])\n",
    "            \n",
    "    return x"
   ]
  },
  {
   "cell_type": "markdown",
   "metadata": {},
   "source": [
    "2) Задание системы при разных параметрах $ t $ и решение системы и системы после округления элементов:"
   ]
  },
  {
   "cell_type": "code",
   "execution_count": 22,
   "metadata": {},
   "outputs": [],
   "source": [
    "M = 5\n",
    "n = 45\n",
    "m = 4\n",
    "tt = [1e-4, 1, 1e4]"
   ]
  },
  {
   "cell_type": "code",
   "execution_count": 23,
   "metadata": {},
   "outputs": [],
   "source": [
    "A = np.empty((n, n))\n",
    "b = np.empty(n)\n",
    "d = dict()\n",
    "\n",
    "for t in tt:\n",
    "    q = 0.993 + (-1)**M * M * 1e-4\n",
    "    \n",
    "    A = np.tile([q**j for j in range(1, n+1)], (n,1))\n",
    "    A += np.diag(np.diag(A) + t)\n",
    "    b = np.array([q**(n + 1 - j) for j in range(1, n+1)])\n",
    "    x = Gauss_method(A, b, fround=lambda x: x)\n",
    "    \n",
    "    A1 = np.round(A, m)\n",
    "    b1 = np.round(b, m)\n",
    "    x1 = Gauss_method(A1, b1, fround=lambda x: np.round(x, m))\n",
    "    \n",
    "    # считаем относительную ошибку по inf-норме аналогично первому номеру\n",
    "    d[t] = nla.norm(x - x1, np.inf)/nla.norm(x, np.inf)"
   ]
  },
  {
   "cell_type": "markdown",
   "metadata": {},
   "source": [
    "Выведем значения относительных ошибок:"
   ]
  },
  {
   "cell_type": "code",
   "execution_count": 24,
   "metadata": {},
   "outputs": [
    {
     "name": "stdout",
     "output_type": "stream",
     "text": [
      "t = 1; error = 0.001115\n",
      "t = 0.0001; error = 0.002105\n",
      "t = 10000.0; error = 0.293751\n"
     ]
    }
   ],
   "source": [
    "for k, v in sorted(d.items(), key=lambda x: x[1]):\n",
    "    print(\"t = \", k, \"; error = {:f}\".format(v), sep='')"
   ]
  },
  {
   "cell_type": "markdown",
   "metadata": {},
   "source": [
    "- Ошибка при прибавлении целого $ t = 1 $ к диагональным элементам матрицы $ A $: наименьшая из всех. \n",
    "- Ошибка при прибавлении малого $ t = 0.0001 $ больше предыдущей: это объясняется тем, что, при возведении в степень элементов с погрешностями (при формировании матрицы $ A $), у этих элементов образуются \"хвосты\", которые потом теряются при округлении до $ m $ знаков после запятой.\n",
    "- Ошибка при прибавлении наибольшего  $ t = 10000 $: ошибка наибольшая - ожидаемо"
   ]
  }
 ],
 "metadata": {
  "kernelspec": {
   "display_name": "Python 3",
   "language": "python",
   "name": "python3"
  },
  "language_info": {
   "codemirror_mode": {
    "name": "ipython",
    "version": 3
   },
   "file_extension": ".py",
   "mimetype": "text/x-python",
   "name": "python",
   "nbconvert_exporter": "python",
   "pygments_lexer": "ipython3",
   "version": "3.8.2"
  }
 },
 "nbformat": 4,
 "nbformat_minor": 4
}
