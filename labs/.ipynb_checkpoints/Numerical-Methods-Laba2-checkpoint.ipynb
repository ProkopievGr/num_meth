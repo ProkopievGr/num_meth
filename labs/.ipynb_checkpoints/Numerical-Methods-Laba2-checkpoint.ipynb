{
 "cells": [
  {
   "cell_type": "code",
   "execution_count": 33,
   "metadata": {},
   "outputs": [
    {
     "name": "stdout",
     "output_type": "stream",
     "text": [
      "PROBLEMS: 2.1.10, 2.5.2, 2.10.4\n"
     ]
    }
   ],
   "source": [
    "%matplotlib inline\n",
    "from scipy.optimize import fsolve\n",
    "import math\n",
    "import pandas as pd\n",
    "import numpy as np\n",
    "import matplotlib.pyplot as plt\n",
    "\n",
    "#for x in range(0,1):\n",
    "#    x = scipy.optimize.broyden1(F, [x/100], f_tol=1e-14)\n",
    "#    print(x)\n",
    "    \n",
    "def lattice_search(f, a, b, lattice, eps):\n",
    "    X = [a + lattice * i for i in range(int((b - a)/lattice))]\n",
    "    ans = []\n",
    "    for x in X:\n",
    "        ans.append(fsolve(f, x)[0])\n",
    "        #ans.append(scipy.optimize.broyden1(F, x, f_tol=eps))\n",
    "    ret = []\n",
    "    for an in ans:\n",
    "        if all(np.abs(x - an) >= eps for x in ret) and a <= an and an <= b:\n",
    "            ret.append(an)\n",
    "    #ret = [x for x in ret if a <= x and x <= b ]\n",
    "    \n",
    "    ret.sort()\n",
    "    return ret\n",
    "\n",
    "print('PROBLEMS: 2.1.10, 2.5.2, 2.10.4')\n",
    "\n",
    "def f_2_1_10(x):\n",
    "    return math.tan(x)**2 + (math.sqrt(3) - 1) * math.tan(x) - math.sqrt(3)\n",
    "\n",
    "def g_2_1_10(x):\n",
    "    return math.tan(x)**2 - 2*math.tan(x) + 1\n",
    "\n",
    "def f_2_5_2(x):\n",
    "    144*math.sin(x) + 12*math.sqrt(3) * math.pi + 36*x**2 + math.pi**2 - 72 - 12*math.pi*x - 72*sqrt(3)*x"
   ]
  },
  {
   "cell_type": "code",
   "execution_count": 34,
   "metadata": {},
   "outputs": [
    {
     "name": "stdout",
     "output_type": "stream",
     "text": [
      ">> scipy fsolve: \n",
      " [-1.0471975511965976, 5.673461700439475e-12, 0.7853981633974483]\n",
      ">> customary bisection method: \n",
      " [-1.0471975517272951, 0.7853981617093084]\n"
     ]
    },
    {
     "name": "stderr",
     "output_type": "stream",
     "text": [
      "C:\\ProgramData\\Anaconda3\\lib\\site-packages\\scipy\\optimize\\minpack.py:163: RuntimeWarning: The iteration is not making good progress, as measured by the \n",
      "  improvement from the last ten iterations.\n",
      "  warnings.warn(msg, RuntimeWarning)\n"
     ]
    }
   ],
   "source": [
    "def simple_bisec(f, a, b, eps, null_approx = 1e-16):\n",
    "    xl = a\n",
    "    xr = b\n",
    "    c = xl\n",
    "    if (f(a)*f(b) >= null_approx):\n",
    "        return None\n",
    "    while (np.abs(xl - xr) >= eps):\n",
    "        c = (xl + xr) / 2.0\n",
    "        if f(xl)*f(c) > null_approx:\n",
    "            xl = c\n",
    "        else:\n",
    "            xr = c\n",
    "    #if (np.abs(f(c)) >= eps):\n",
    "    #    return None\n",
    "    return c\n",
    "\n",
    "def bisec(f, a, b, eps, lattice, null_approx = 1e-16):\n",
    "    X = [a + lattice * i for i in range(int((b - a)/lattice))]\n",
    "    C = X.copy()\n",
    "    #if not np.abs(X[len(x) - 1] - b) < eps:\n",
    "    X.append(b)\n",
    "    if len(X) != len(C) + 1:\n",
    "        print(\"Error!\")\n",
    "        return\n",
    "    ans = []\n",
    "    for i in range(len(C)):\n",
    "        ans.append(simple_bisec(f, C[i], X[i + 1], eps, null_approx))\n",
    "    ans = set(ans)\n",
    "    ans.remove(None)\n",
    "    ans = list(ans)\n",
    "    ans.sort()\n",
    "    return ans\n",
    "\n",
    "print('>> scipy fsolve: \\n', lattice_search(f_2_1_10, -1.2, 1, 1e-1, 1e-10))\n",
    "print('>> customary bisection method: \\n', bisec(f_2_1_10, -1.2, 1, 1e-16, 0.01))"
   ]
  },
  {
   "cell_type": "code",
   "execution_count": 7,
   "metadata": {},
   "outputs": [
    {
     "ename": "TypeError",
     "evalue": "only size-1 arrays can be converted to Python scalars",
     "output_type": "error",
     "traceback": [
      "\u001b[1;31m---------------------------------------------------------------------------\u001b[0m",
      "\u001b[1;31mTypeError\u001b[0m                                 Traceback (most recent call last)",
      "\u001b[1;32m<ipython-input-7-7c2fd1682ef0>\u001b[0m in \u001b[0;36m<module>\u001b[1;34m()\u001b[0m\n\u001b[0;32m      1\u001b[0m \u001b[0mx\u001b[0m \u001b[1;33m=\u001b[0m \u001b[0mnp\u001b[0m\u001b[1;33m.\u001b[0m\u001b[0mlinspace\u001b[0m\u001b[1;33m(\u001b[0m\u001b[1;36m0\u001b[0m\u001b[1;33m,\u001b[0m \u001b[1;36m2\u001b[0m\u001b[1;33m*\u001b[0m\u001b[0mmath\u001b[0m\u001b[1;33m.\u001b[0m\u001b[0mpi\u001b[0m\u001b[1;33m,\u001b[0m \u001b[1;36m100\u001b[0m\u001b[1;33m)\u001b[0m\u001b[1;33m\u001b[0m\u001b[0m\n\u001b[1;32m----> 2\u001b[1;33m \u001b[0mplt\u001b[0m\u001b[1;33m.\u001b[0m\u001b[0mplot\u001b[0m\u001b[1;33m(\u001b[0m\u001b[0mx\u001b[0m\u001b[1;33m,\u001b[0m \u001b[0mF\u001b[0m\u001b[1;33m(\u001b[0m\u001b[0mx\u001b[0m\u001b[1;33m)\u001b[0m\u001b[1;33m)\u001b[0m\u001b[1;33m\u001b[0m\u001b[0m\n\u001b[0m\u001b[0;32m      3\u001b[0m \u001b[0mplt\u001b[0m\u001b[1;33m.\u001b[0m\u001b[0mgrid\u001b[0m\u001b[1;33m(\u001b[0m\u001b[1;33m)\u001b[0m\u001b[1;33m\u001b[0m\u001b[0m\n\u001b[0;32m      4\u001b[0m \u001b[0mplt\u001b[0m\u001b[1;33m.\u001b[0m\u001b[0mshow\u001b[0m\u001b[1;33m(\u001b[0m\u001b[1;33m)\u001b[0m\u001b[1;33m\u001b[0m\u001b[0m\n",
      "\u001b[1;32m<ipython-input-5-60cfb2708af9>\u001b[0m in \u001b[0;36mF\u001b[1;34m(x)\u001b[0m\n\u001b[0;32m      7\u001b[0m \u001b[1;33m\u001b[0m\u001b[0m\n\u001b[0;32m      8\u001b[0m \u001b[1;32mdef\u001b[0m \u001b[0mF\u001b[0m\u001b[1;33m(\u001b[0m\u001b[0mx\u001b[0m\u001b[1;33m)\u001b[0m\u001b[1;33m:\u001b[0m\u001b[1;33m\u001b[0m\u001b[0m\n\u001b[1;32m----> 9\u001b[1;33m     \u001b[1;32mreturn\u001b[0m \u001b[0mmath\u001b[0m\u001b[1;33m.\u001b[0m\u001b[0msin\u001b[0m\u001b[1;33m(\u001b[0m\u001b[0mx\u001b[0m\u001b[1;33m)\u001b[0m\u001b[1;33m**\u001b[0m\u001b[1;36m2\u001b[0m\u001b[1;33m-\u001b[0m\u001b[1;36m5\u001b[0m\u001b[1;33m/\u001b[0m\u001b[1;36m6\u001b[0m\u001b[1;33m*\u001b[0m\u001b[0mmath\u001b[0m\u001b[1;33m.\u001b[0m\u001b[0msin\u001b[0m\u001b[1;33m(\u001b[0m\u001b[0mx\u001b[0m\u001b[1;33m)\u001b[0m\u001b[1;33m+\u001b[0m\u001b[1;36m1\u001b[0m\u001b[1;33m/\u001b[0m\u001b[1;36m6\u001b[0m\u001b[1;33m\u001b[0m\u001b[0m\n\u001b[0m\u001b[0;32m     10\u001b[0m \u001b[1;33m\u001b[0m\u001b[0m\n\u001b[0;32m     11\u001b[0m \u001b[1;31m#for x in range(0,1):\u001b[0m\u001b[1;33m\u001b[0m\u001b[1;33m\u001b[0m\u001b[0m\n",
      "\u001b[1;31mTypeError\u001b[0m: only size-1 arrays can be converted to Python scalars"
     ]
    }
   ],
   "source": [
    "x = np.linspace(0, 2*math.pi, 100)\n",
    "plt.plot(x, F(x))\n",
    "plt.grid()\n",
    "plt.show()"
   ]
  },
  {
   "cell_type": "code",
   "execution_count": null,
   "metadata": {},
   "outputs": [],
   "source": []
  }
 ],
 "metadata": {
  "kernelspec": {
   "display_name": "Python 3",
   "language": "python",
   "name": "python3"
  },
  "language_info": {
   "codemirror_mode": {
    "name": "ipython",
    "version": 3
   },
   "file_extension": ".py",
   "mimetype": "text/x-python",
   "name": "python",
   "nbconvert_exporter": "python",
   "pygments_lexer": "ipython3",
   "version": "3.6.8"
  }
 },
 "nbformat": 4,
 "nbformat_minor": 2
}
